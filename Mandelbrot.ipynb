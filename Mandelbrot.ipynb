{
 "cells": [
  {
   "cell_type": "code",
   "execution_count": 1,
   "metadata": {},
   "outputs": [
    {
     "name": "stdout",
     "output_type": "stream",
     "text": [
      "pygame 2.0.1 (SDL 2.0.14, Python 3.8.5)\n",
      "Hello from the pygame community. https://www.pygame.org/contribute.html\n"
     ]
    }
   ],
   "source": [
    "import numpy as np\n",
    "from numba import njit, prange, cuda\n",
    "import pygame\n",
    "import time\n",
    "import matplotlib.pyplot as plt"
   ]
  },
  {
   "cell_type": "markdown",
   "metadata": {},
   "source": [
    "# Global variables"
   ]
  },
  {
   "cell_type": "code",
   "execution_count": 2,
   "metadata": {},
   "outputs": [
    {
     "name": "stdout",
     "output_type": "stream",
     "text": [
      "Threads per block (32, 32)\n",
      "Blocks  per grid  (120, 68)\n"
     ]
    }
   ],
   "source": [
    "res = 128\n",
    "FHD = (1920,1080)\n",
    "UHD = (3840,2160)\n",
    "size = UHD\n",
    "\n",
    "threadsperblock = (32, 32)\n",
    "blockspergrid_x = int(np.ceil(size[0] / threadsperblock[0]))\n",
    "blockspergrid_y = int(np.ceil(size[1] / threadsperblock[1]))\n",
    "blockspergrid = (blockspergrid_x, blockspergrid_y)\n",
    "\n",
    "print('Threads per block',threadsperblock)\n",
    "print('Blocks  per grid ',blockspergrid)"
   ]
  },
  {
   "cell_type": "markdown",
   "metadata": {},
   "source": [
    "# Mandelbrot functions\n",
    "\n",
    "$z_{n+1} = z_n^2+z_0$"
   ]
  },
  {
   "cell_type": "code",
   "execution_count": 3,
   "metadata": {},
   "outputs": [],
   "source": [
    "@cuda.jit(device=True)\n",
    "def iterate_mandelbrot(z,itr):\n",
    "    z0 = z\n",
    "    for n in range(itr):\n",
    "        z = z**2 + z0\n",
    "        if z.real**2 + z.imag**2 > 4:\n",
    "            return n\n",
    "    return -1"
   ]
  },
  {
   "cell_type": "markdown",
   "metadata": {},
   "source": [
    "$z_{n+1} = z_n^2+c$"
   ]
  },
  {
   "cell_type": "code",
   "execution_count": 4,
   "metadata": {},
   "outputs": [],
   "source": [
    "@cuda.jit(device=True)\n",
    "def iterate_julia(z,itr,c):\n",
    "    for n in range(itr):\n",
    "        z = z**2 + c\n",
    "        if z.real**2 + z.imag**2 > 4:\n",
    "            return n\n",
    "    return -1"
   ]
  },
  {
   "cell_type": "markdown",
   "metadata": {},
   "source": [
    "# Coloring"
   ]
  },
  {
   "cell_type": "code",
   "execution_count": 5,
   "metadata": {},
   "outputs": [],
   "source": [
    "@cuda.jit(device=True)\n",
    "def color(itr):\n",
    "    r,g,b = 0,0,0\n",
    "    if itr == -1:\n",
    "        return r,g,b\n",
    "    \n",
    "    n = itr % (256*6)\n",
    "    if n < 256:\n",
    "        r = 255\n",
    "        g = n\n",
    "    elif n < 512:\n",
    "        r = 511 - n\n",
    "        g = 255\n",
    "    elif n < 768:\n",
    "        g = 255\n",
    "        b = n - 512\n",
    "    elif n < 1024:\n",
    "        g = 1023 - n\n",
    "        b = 255\n",
    "    elif n < 1280:\n",
    "        r = n - 1024\n",
    "        b = 255\n",
    "    else:\n",
    "        r = 255\n",
    "        b = 1535 - n\n",
    "    \n",
    "    return r,g,b"
   ]
  },
  {
   "cell_type": "markdown",
   "metadata": {},
   "source": [
    "# Interaction"
   ]
  },
  {
   "cell_type": "code",
   "execution_count": 6,
   "metadata": {},
   "outputs": [],
   "source": [
    "def get_true_pos(w,h,pos):\n",
    "    global size\n",
    "    mouse_pos = pygame.mouse.get_pos()\n",
    "    x = w * (mouse_pos[0]/size[0] - 0.5) + pos[0]\n",
    "    y = h * (mouse_pos[1]/size[1] - 0.5) + pos[1]\n",
    "    return np.array([x,y])"
   ]
  },
  {
   "cell_type": "markdown",
   "metadata": {},
   "source": [
    "# Display"
   ]
  },
  {
   "cell_type": "code",
   "execution_count": 7,
   "metadata": {},
   "outputs": [],
   "source": [
    "@cuda.jit\n",
    "def draw_mandelbrot(Z,rect,w,h,pos,max_itr):\n",
    "    global size\n",
    "    \n",
    "    i, j = cuda.grid(2)\n",
    "    \n",
    "    if i + rect[0] < size[0] and j + rect[1] < size[1]:\n",
    "        a = ( rect[0] + i )*w / size[0] - w/2 + pos[0]\n",
    "        b = ( rect[1] + j )*h / size[1] - h/2 + pos[1]\n",
    "        \n",
    "        itr = iterate_mandelbrot(np.clongdouble(a+b*1j),max_itr)\n",
    "        r,g,b = color(itr)\n",
    "        Z[i + rect[0],j + rect[1],0] = r\n",
    "        Z[i + rect[0],j + rect[1],1] = g\n",
    "        Z[i + rect[0],j + rect[1],2] = b"
   ]
  },
  {
   "cell_type": "code",
   "execution_count": 8,
   "metadata": {},
   "outputs": [],
   "source": [
    "@cuda.jit\n",
    "def draw_julia(Z,rect,w,h,pos,pos_m,max_itr):\n",
    "    global size\n",
    "    \n",
    "    i, j = cuda.grid(2)\n",
    "    \n",
    "    if i + rect[0] < size[0] and j + rect[1] < size[1]:\n",
    "        a = ( rect[0] + i )*w / size[0] - w/2 + pos[0]\n",
    "        b = ( rect[1] + j )*h / size[1] - h/2 + pos[1]\n",
    "        \n",
    "        itr = iterate_julia(np.clongdouble(a+b*1j),max_itr,np.clongdouble(pos_m[0]+pos_m[1]*1j))\n",
    "        r,g,b = color(itr)\n",
    "        Z[i + rect[0],j + rect[1],0] = r\n",
    "        Z[i + rect[0],j + rect[1],1] = g\n",
    "        Z[i + rect[0],j + rect[1],2] = b"
   ]
  },
  {
   "cell_type": "markdown",
   "metadata": {},
   "source": [
    "# Main code"
   ]
  },
  {
   "cell_type": "code",
   "execution_count": 9,
   "metadata": {},
   "outputs": [],
   "source": [
    "def main():\n",
    "    global size, res, threadsperblock, blockspergrid, gridshape\n",
    "    \n",
    "    pygame.init()\n",
    "    screen = pygame.display.set_mode(size)\n",
    "    t0 = time.time()\n",
    "    \n",
    "    ########## Frame rate handeling (FPS) ##########\n",
    "    frame_limit   = 100\n",
    "    frame_period  = 0.5\n",
    "    frame_update  = 0.1\n",
    "    frame_storage = round(frame_limit * frame_period)\n",
    "    frame_time    = np.ones((frame_storage))\n",
    "    frame_t0      = time.time()\n",
    "    frame_t1      = time.time()\n",
    "    frame_id      = 0\n",
    "    frame_story_t = []\n",
    "    frame_story_f = []\n",
    "    \n",
    "    ########## Variables ##########\n",
    "    Z = np.empty((size[0],size[1],3),dtype=np.uint8)\n",
    "    fractal = 'Mandelbrot'\n",
    "    \n",
    "    pos = np.array([0,0],dtype=np.longdouble)\n",
    "    pos_m = pos\n",
    "    pos_j = pos\n",
    "    \n",
    "    zoom   = -1\n",
    "    zoom_m = zoom\n",
    "    zoom_j = zoom\n",
    "    \n",
    "    w, h = 2.**zoom*size[0]/res, 2.**zoom*size[1]/res\n",
    "    max_itr = 1024\n",
    "    update_fractal = True\n",
    "    \n",
    "    ########## Program loop ##########\n",
    "    running = True\n",
    "    while running:\n",
    "        frame_t_dif = time.time() - frame_t0\n",
    "        if frame_t_dif > 1 / frame_limit:\n",
    "            frame_time[frame_id] = frame_t_dif\n",
    "            frame_t0 = time.time()\n",
    "            frame_id = (frame_id + 1) % frame_storage\n",
    "            if frame_t1 > frame_update:\n",
    "                frame_t1         = time.time()\n",
    "                frame_total_time = 0\n",
    "                frame_current    = 0\n",
    "                while frame_total_time < frame_period:\n",
    "                    frame_total_time += frame_time[(frame_id - frame_current) % frame_storage]\n",
    "                    frame_current    += 1\n",
    "                if zoom < 0:\n",
    "                    A = str(round(-zoom))\n",
    "                else:\n",
    "                    A = '0'\n",
    "                string = fractal + ' {:3.0f} FPS, zoom: {:.1f}, iterations: {:.0f}, loc x: {:.'+A+'f}, y:{:.'+A+'f}'\n",
    "                pygame.display.set_caption(string.format(frame_current / frame_total_time, zoom, max_itr, pos[0], pos[1]))\n",
    "                frame_story_t.append(time.time()-t0)\n",
    "                frame_story_f.append(frame_current / frame_total_time)\n",
    "            \n",
    "            ########## Drawing the fractal ##########  \n",
    "            if update_fractal:\n",
    "                w, h = 2.**zoom*size[0]/res, 2.**zoom*size[1]/res\n",
    "                rect = np.array([0,0,size[0],size[1]])\n",
    "                if fractal == 'Mandelbrot':\n",
    "                    draw_mandelbrot[blockspergrid, threadsperblock](Z,rect,w,h,pos,max_itr)\n",
    "                    pos_m  = pos\n",
    "                    zoom_m = zoom\n",
    "                elif fractal == 'Julia':\n",
    "                    draw_julia[blockspergrid, threadsperblock](Z,rect,w,h,pos,pos_m,max_itr)\n",
    "                    pos_j  = pos\n",
    "                    zoom_j = zoom\n",
    "                surf = pygame.surfarray.make_surface(Z)\n",
    "                screen.blit(surf,(0,0))\n",
    "                pygame.display.flip()\n",
    "                update_fractal = False\n",
    "            \n",
    "            ########## Events ##########\n",
    "            for event in pygame.event.get():            \n",
    "                if event.type == pygame.QUIT:\n",
    "                    running = False\n",
    "                if event.type == pygame.KEYDOWN:\n",
    "                    if event.key == pygame.K_ESCAPE:\n",
    "                        running = False\n",
    "                    \n",
    "                    # chose iterations\n",
    "                    if event.key == pygame.K_KP_PLUS:\n",
    "                        max_itr = np.ceil(max_itr*2)\n",
    "                        update_fractal = True\n",
    "                    if event.key == pygame.K_KP_MINUS:\n",
    "                        max_itr = np.ceil(max_itr/2)\n",
    "                        update_fractal = True\n",
    "                        \n",
    "                    # chose fractal to draw\n",
    "                    if  event.key == pygame.K_m:\n",
    "                        fractal = 'Mandelbrot'\n",
    "                        pos  = pos_m\n",
    "                        zoom = zoom_m\n",
    "                        update_fractal = True\n",
    "                    if event.key == pygame.K_j:\n",
    "                        fractal = 'Julia'\n",
    "                        pos  = np.array([0,0],dtype=np.longdouble)\n",
    "                        zoom = -1\n",
    "                        update_fractal = True\n",
    "                    \n",
    "                if event.type == pygame.MOUSEBUTTONDOWN:\n",
    "                    # left click\n",
    "                    if event.button == 1:\n",
    "                        pos = get_true_pos(w,h,pos)\n",
    "                        zoom -= .5\n",
    "                        update_fractal = True\n",
    "                    # right click\n",
    "                    if event.button == 3:\n",
    "                        zoom += .5\n",
    "                        update_fractal = True\n",
    "                    # middel click\n",
    "                    if event.button == 2:\n",
    "                        pos = get_true_pos(w,h,pos)  \n",
    "                        update_fractal = True     \n",
    "    \n",
    "    ######################################## End of program ########################################\n",
    "    \n",
    "    pygame.quit()\n",
    "    \n",
    "    frame_story_t = np.array(frame_story_t)\n",
    "    frame_story_f = np.array(frame_story_f)\n",
    "    \n",
    "    plt.figure(dpi=300,figsize=(4,2))\n",
    "    plt.plot(frame_story_t-1,frame_story_f,'.',ms=1,mew=0)\n",
    "    plt.xlim(xmin=0)\n",
    "    plt.ylim(0,frame_story_f.max()*1.1)\n",
    "    plt.xlabel('Time [s]')\n",
    "    plt.ylabel('Frame rate [FPS]')\n",
    "    plt.title('Performance')\n",
    "    plt.show()"
   ]
  },
  {
   "cell_type": "code",
   "execution_count": 10,
   "metadata": {},
   "outputs": [
    {
     "data": {
      "image/png": "[encoded data removed]",
      "text/plain": [
       "<Figure size 1200x600 with 1 Axes>"
      ]
     },
     "metadata": {
      "needs_background": "light"
     },
     "output_type": "display_data"
    }
   ],
   "source": [
    "if __name__ == '__main__':\n",
    "    main()"
   ]
  }
 ],
 "metadata": {
  "kernelspec": {
   "display_name": "Python 3",
   "language": "python",
   "name": "python3"
  },
  "language_info": {
   "codemirror_mode": {
    "name": "ipython",
    "version": 3
   },
   "file_extension": ".py",
   "mimetype": "text/x-python",
   "name": "python",
   "nbconvert_exporter": "python",
   "pygments_lexer": "ipython3",
   "version": "3.8.5"
  }
 },
 "nbformat": 4,
 "nbformat_minor": 4
}
